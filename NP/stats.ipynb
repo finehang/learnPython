{
 "metadata": {
  "language_info": {
   "codemirror_mode": {
    "name": "ipython",
    "version": 3
   },
   "file_extension": ".py",
   "mimetype": "text/x-python",
   "name": "python",
   "nbconvert_exporter": "python",
   "pygments_lexer": "ipython3",
   "version": "3.8.3-final"
  },
  "orig_nbformat": 2,
  "kernelspec": {
   "name": "python_defaultSpec_1598006469486",
   "display_name": "Python 3.8.3 64-bit"
  }
 },
 "nbformat": 4,
 "nbformat_minor": 2,
 "cells": [
  {
   "source": [
    "## 常用分析库\n",
    "Numpy  数据科学计算  \n",
    "Pandas  数据处理与读取  \n",
    "Matplotlib  数据可视化  \n",
    "与其他"
   ],
   "cell_type": "markdown",
   "metadata": {}
  },
  {
   "cell_type": "code",
   "execution_count": 9,
   "metadata": {
    "tags": []
   },
   "outputs": [
    {
     "output_type": "stream",
     "name": "stdout",
     "text": "[1 2 3]\n[[1 2 3]\n [4 5 6]]\n[[ 1  4  9]\n [16 25 36]]\nA     [1, 2, 3, 4]\nB     [5, 6, 7, 8]\nAB    [5, 6, 7, 8]\nO     [5, 6, 7, 8]\ndtype: object\n   A  B  AB  O\n0  1  2   3  4\n1  5  6   7  8\n"
    }
   ],
   "source": [
    "# numpy常用array数组结构\n",
    "# pandas常用series和dataframe结构\n",
    "import numpy as np\n",
    "import pandas as pd\n",
    "\n",
    "a=np.array([1,2,3]) # 一维数组\n",
    "print(a)\n",
    "a=np.array([[1,2,3], [4,5,6]]) # 二维数组\n",
    "print(a)\n",
    "print(a*a)\n",
    "\n",
    "b=pd.Series([[1,2,3,4], [5,6,7,8], [5,6,7,8], [5,6,7,8]], index=(\"A\", \"B\", \"AB\", \"O\")) # 线性结构\n",
    "print(b)\n",
    "b=pd.DataFrame([[1,2,3,4], [5,6,7,8]], columns=(\"A\", \"B\", \"AB\", \"O\")) #二维结构, 数据为观测, 列名为变量\n",
    "print(b)"
   ]
  },
  {
   "cell_type": "code",
   "execution_count": 21,
   "metadata": {},
   "outputs": [
    {
     "output_type": "execute_result",
     "data": {
      "text/plain": "    Unnamed: 0   len supp  dose\n55          56  30.9   OJ   2.0\n56          57  26.4   OJ   2.0\n57          58  27.3   OJ   2.0\n58          59  29.4   OJ   2.0\n59          60  23.0   OJ   2.0",
      "text/html": "<div>\n<style scoped>\n    .dataframe tbody tr th:only-of-type {\n        vertical-align: middle;\n    }\n\n    .dataframe tbody tr th {\n        vertical-align: top;\n    }\n\n    .dataframe thead th {\n        text-align: right;\n    }\n</style>\n<table border=\"1\" class=\"dataframe\">\n  <thead>\n    <tr style=\"text-align: right;\">\n      <th></th>\n      <th>Unnamed: 0</th>\n      <th>len</th>\n      <th>supp</th>\n      <th>dose</th>\n    </tr>\n  </thead>\n  <tbody>\n    <tr>\n      <th>55</th>\n      <td>56</td>\n      <td>30.9</td>\n      <td>OJ</td>\n      <td>2.0</td>\n    </tr>\n    <tr>\n      <th>56</th>\n      <td>57</td>\n      <td>26.4</td>\n      <td>OJ</td>\n      <td>2.0</td>\n    </tr>\n    <tr>\n      <th>57</th>\n      <td>58</td>\n      <td>27.3</td>\n      <td>OJ</td>\n      <td>2.0</td>\n    </tr>\n    <tr>\n      <th>58</th>\n      <td>59</td>\n      <td>29.4</td>\n      <td>OJ</td>\n      <td>2.0</td>\n    </tr>\n    <tr>\n      <th>59</th>\n      <td>60</td>\n      <td>23.0</td>\n      <td>OJ</td>\n      <td>2.0</td>\n    </tr>\n  </tbody>\n</table>\n</div>"
     },
     "metadata": {},
     "execution_count": 21
    }
   ],
   "source": [
    "import pandas as pd\n",
    "\n",
    "data = pd.read_excel(r\"C:\\Users\\fanhang\\Desktop\\learn_python\\ToothGrowth.xlsx\") # 读取为pd数据框\n",
    "data.head(5)\n",
    "data.tail(5)"
   ]
  },
  {
   "cell_type": "code",
   "execution_count": 37,
   "metadata": {
    "tags": []
   },
   "outputs": [
    {
     "output_type": "display_data",
     "data": {
      "text/plain": "<Figure size 432x288 with 1 Axes>",
      "image/svg+xml": "<?xml version=\"1.0\" encoding=\"utf-8\" standalone=\"no\"?>\r\n<!DOCTYPE svg PUBLIC \"-//W3C//DTD SVG 1.1//EN\"\r\n  \"http://www.w3.org/Graphics/SVG/1.1/DTD/svg11.dtd\">\r\n<!-- Created with matplotlib (https://matplotlib.org/) -->\r\n<svg height=\"277.314375pt\" version=\"1.1\" viewBox=\"0 0 400.523437 277.314375\" width=\"400.523437pt\" xmlns=\"http://www.w3.org/2000/svg\" xmlns:xlink=\"http://www.w3.org/1999/xlink\">\r\n <defs>\r\n  <style type=\"text/css\">\r\n*{stroke-linecap:butt;stroke-linejoin:round;}\r\n  </style>\r\n </defs>\r\n <g id=\"figure_1\">\r\n  <g id=\"patch_1\">\r\n   <path d=\"M 0 277.314375 \r\nL 400.523437 277.314375 \r\nL 400.523437 0 \r\nL 0 0 \r\nz\r\n\" style=\"fill:none;\"/>\r\n  </g>\r\n  <g id=\"axes_1\">\r\n   <g id=\"patch_2\">\r\n    <path d=\"M 58.523438 239.758125 \r\nL 393.323438 239.758125 \r\nL 393.323438 22.318125 \r\nL 58.523438 22.318125 \r\nz\r\n\" style=\"fill:#ffffff;\"/>\r\n   </g>\r\n   <g id=\"matplotlib.axis_1\">\r\n    <g id=\"xtick_1\">\r\n     <g id=\"line2d_1\">\r\n      <defs>\r\n       <path d=\"M 0 0 \r\nL 0 3.5 \r\n\" id=\"m6522e72cf2\" style=\"stroke:#000000;stroke-width:0.8;\"/>\r\n      </defs>\r\n      <g>\r\n       <use style=\"stroke:#000000;stroke-width:0.8;\" x=\"80.600506\" xlink:href=\"#m6522e72cf2\" y=\"239.758125\"/>\r\n      </g>\r\n     </g>\r\n     <g id=\"text_1\">\r\n      <!-- −6 -->\r\n      <defs>\r\n       <path d=\"M 10.59375 35.5 \r\nL 73.1875 35.5 \r\nL 73.1875 27.203125 \r\nL 10.59375 27.203125 \r\nz\r\n\" id=\"DejaVuSans-8722\"/>\r\n       <path d=\"M 33.015625 40.375 \r\nQ 26.375 40.375 22.484375 35.828125 \r\nQ 18.609375 31.296875 18.609375 23.390625 \r\nQ 18.609375 15.53125 22.484375 10.953125 \r\nQ 26.375 6.390625 33.015625 6.390625 \r\nQ 39.65625 6.390625 43.53125 10.953125 \r\nQ 47.40625 15.53125 47.40625 23.390625 \r\nQ 47.40625 31.296875 43.53125 35.828125 \r\nQ 39.65625 40.375 33.015625 40.375 \r\nz\r\nM 52.59375 71.296875 \r\nL 52.59375 62.3125 \r\nQ 48.875 64.0625 45.09375 64.984375 \r\nQ 41.3125 65.921875 37.59375 65.921875 \r\nQ 27.828125 65.921875 22.671875 59.328125 \r\nQ 17.53125 52.734375 16.796875 39.40625 \r\nQ 19.671875 43.65625 24.015625 45.921875 \r\nQ 28.375 48.1875 33.59375 48.1875 \r\nQ 44.578125 48.1875 50.953125 41.515625 \r\nQ 57.328125 34.859375 57.328125 23.390625 \r\nQ 57.328125 12.15625 50.6875 5.359375 \r\nQ 44.046875 -1.421875 33.015625 -1.421875 \r\nQ 20.359375 -1.421875 13.671875 8.265625 \r\nQ 6.984375 17.96875 6.984375 36.375 \r\nQ 6.984375 53.65625 15.1875 63.9375 \r\nQ 23.390625 74.21875 37.203125 74.21875 \r\nQ 40.921875 74.21875 44.703125 73.484375 \r\nQ 48.484375 72.75 52.59375 71.296875 \r\nz\r\n\" id=\"DejaVuSans-54\"/>\r\n      </defs>\r\n      <g transform=\"translate(73.229412 254.356562)scale(0.1 -0.1)\">\r\n       <use xlink:href=\"#DejaVuSans-8722\"/>\r\n       <use x=\"83.789062\" xlink:href=\"#DejaVuSans-54\"/>\r\n      </g>\r\n     </g>\r\n    </g>\r\n    <g id=\"xtick_2\">\r\n     <g id=\"line2d_2\">\r\n      <g>\r\n       <use style=\"stroke:#000000;stroke-width:0.8;\" x=\"129.041483\" xlink:href=\"#m6522e72cf2\" y=\"239.758125\"/>\r\n      </g>\r\n     </g>\r\n     <g id=\"text_2\">\r\n      <!-- −4 -->\r\n      <defs>\r\n       <path d=\"M 37.796875 64.3125 \r\nL 12.890625 25.390625 \r\nL 37.796875 25.390625 \r\nz\r\nM 35.203125 72.90625 \r\nL 47.609375 72.90625 \r\nL 47.609375 25.390625 \r\nL 58.015625 25.390625 \r\nL 58.015625 17.1875 \r\nL 47.609375 17.1875 \r\nL 47.609375 0 \r\nL 37.796875 0 \r\nL 37.796875 17.1875 \r\nL 4.890625 17.1875 \r\nL 4.890625 26.703125 \r\nz\r\n\" id=\"DejaVuSans-52\"/>\r\n      </defs>\r\n      <g transform=\"translate(121.670389 254.356562)scale(0.1 -0.1)\">\r\n       <use xlink:href=\"#DejaVuSans-8722\"/>\r\n       <use x=\"83.789062\" xlink:href=\"#DejaVuSans-52\"/>\r\n      </g>\r\n     </g>\r\n    </g>\r\n    <g id=\"xtick_3\">\r\n     <g id=\"line2d_3\">\r\n      <g>\r\n       <use style=\"stroke:#000000;stroke-width:0.8;\" x=\"177.48246\" xlink:href=\"#m6522e72cf2\" y=\"239.758125\"/>\r\n      </g>\r\n     </g>\r\n     <g id=\"text_3\">\r\n      <!-- −2 -->\r\n      <defs>\r\n       <path d=\"M 19.1875 8.296875 \r\nL 53.609375 8.296875 \r\nL 53.609375 0 \r\nL 7.328125 0 \r\nL 7.328125 8.296875 \r\nQ 12.9375 14.109375 22.625 23.890625 \r\nQ 32.328125 33.6875 34.8125 36.53125 \r\nQ 39.546875 41.84375 41.421875 45.53125 \r\nQ 43.3125 49.21875 43.3125 52.78125 \r\nQ 43.3125 58.59375 39.234375 62.25 \r\nQ 35.15625 65.921875 28.609375 65.921875 \r\nQ 23.96875 65.921875 18.8125 64.3125 \r\nQ 13.671875 62.703125 7.8125 59.421875 \r\nL 7.8125 69.390625 \r\nQ 13.765625 71.78125 18.9375 73 \r\nQ 24.125 74.21875 28.421875 74.21875 \r\nQ 39.75 74.21875 46.484375 68.546875 \r\nQ 53.21875 62.890625 53.21875 53.421875 \r\nQ 53.21875 48.921875 51.53125 44.890625 \r\nQ 49.859375 40.875 45.40625 35.40625 \r\nQ 44.1875 33.984375 37.640625 27.21875 \r\nQ 31.109375 20.453125 19.1875 8.296875 \r\nz\r\n\" id=\"DejaVuSans-50\"/>\r\n      </defs>\r\n      <g transform=\"translate(170.111367 254.356562)scale(0.1 -0.1)\">\r\n       <use xlink:href=\"#DejaVuSans-8722\"/>\r\n       <use x=\"83.789062\" xlink:href=\"#DejaVuSans-50\"/>\r\n      </g>\r\n     </g>\r\n    </g>\r\n    <g id=\"xtick_4\">\r\n     <g id=\"line2d_4\">\r\n      <g>\r\n       <use style=\"stroke:#000000;stroke-width:0.8;\" x=\"225.923438\" xlink:href=\"#m6522e72cf2\" y=\"239.758125\"/>\r\n      </g>\r\n     </g>\r\n     <g id=\"text_4\">\r\n      <!-- 0 -->\r\n      <defs>\r\n       <path d=\"M 31.78125 66.40625 \r\nQ 24.171875 66.40625 20.328125 58.90625 \r\nQ 16.5 51.421875 16.5 36.375 \r\nQ 16.5 21.390625 20.328125 13.890625 \r\nQ 24.171875 6.390625 31.78125 6.390625 \r\nQ 39.453125 6.390625 43.28125 13.890625 \r\nQ 47.125 21.390625 47.125 36.375 \r\nQ 47.125 51.421875 43.28125 58.90625 \r\nQ 39.453125 66.40625 31.78125 66.40625 \r\nz\r\nM 31.78125 74.21875 \r\nQ 44.046875 74.21875 50.515625 64.515625 \r\nQ 56.984375 54.828125 56.984375 36.375 \r\nQ 56.984375 17.96875 50.515625 8.265625 \r\nQ 44.046875 -1.421875 31.78125 -1.421875 \r\nQ 19.53125 -1.421875 13.0625 8.265625 \r\nQ 6.59375 17.96875 6.59375 36.375 \r\nQ 6.59375 54.828125 13.0625 64.515625 \r\nQ 19.53125 74.21875 31.78125 74.21875 \r\nz\r\n\" id=\"DejaVuSans-48\"/>\r\n      </defs>\r\n      <g transform=\"translate(222.742188 254.356562)scale(0.1 -0.1)\">\r\n       <use xlink:href=\"#DejaVuSans-48\"/>\r\n      </g>\r\n     </g>\r\n    </g>\r\n    <g id=\"xtick_5\">\r\n     <g id=\"line2d_5\">\r\n      <g>\r\n       <use style=\"stroke:#000000;stroke-width:0.8;\" x=\"274.364415\" xlink:href=\"#m6522e72cf2\" y=\"239.758125\"/>\r\n      </g>\r\n     </g>\r\n     <g id=\"text_5\">\r\n      <!-- 2 -->\r\n      <g transform=\"translate(271.183165 254.356562)scale(0.1 -0.1)\">\r\n       <use xlink:href=\"#DejaVuSans-50\"/>\r\n      </g>\r\n     </g>\r\n    </g>\r\n    <g id=\"xtick_6\">\r\n     <g id=\"line2d_6\">\r\n      <g>\r\n       <use style=\"stroke:#000000;stroke-width:0.8;\" x=\"322.805392\" xlink:href=\"#m6522e72cf2\" y=\"239.758125\"/>\r\n      </g>\r\n     </g>\r\n     <g id=\"text_6\">\r\n      <!-- 4 -->\r\n      <g transform=\"translate(319.624142 254.356562)scale(0.1 -0.1)\">\r\n       <use xlink:href=\"#DejaVuSans-52\"/>\r\n      </g>\r\n     </g>\r\n    </g>\r\n    <g id=\"xtick_7\">\r\n     <g id=\"line2d_7\">\r\n      <g>\r\n       <use style=\"stroke:#000000;stroke-width:0.8;\" x=\"371.246369\" xlink:href=\"#m6522e72cf2\" y=\"239.758125\"/>\r\n      </g>\r\n     </g>\r\n     <g id=\"text_7\">\r\n      <!-- 6 -->\r\n      <g transform=\"translate(368.065119 254.356562)scale(0.1 -0.1)\">\r\n       <use xlink:href=\"#DejaVuSans-54\"/>\r\n      </g>\r\n     </g>\r\n    </g>\r\n    <g id=\"text_8\">\r\n     <!-- X -->\r\n     <defs>\r\n      <path d=\"M 6.296875 72.90625 \r\nL 16.890625 72.90625 \r\nL 35.015625 45.796875 \r\nL 53.21875 72.90625 \r\nL 63.8125 72.90625 \r\nL 40.375 37.890625 \r\nL 65.375 0 \r\nL 54.78125 0 \r\nL 34.28125 31 \r\nL 13.625 0 \r\nL 2.984375 0 \r\nL 29 38.921875 \r\nz\r\n\" id=\"DejaVuSans-88\"/>\r\n     </defs>\r\n     <g transform=\"translate(222.498437 268.034687)scale(0.1 -0.1)\">\r\n      <use xlink:href=\"#DejaVuSans-88\"/>\r\n     </g>\r\n    </g>\r\n   </g>\r\n   <g id=\"matplotlib.axis_2\">\r\n    <g id=\"ytick_1\">\r\n     <g id=\"line2d_8\">\r\n      <defs>\r\n       <path d=\"M 0 0 \r\nL -3.5 0 \r\n\" id=\"mc065f8ca55\" style=\"stroke:#000000;stroke-width:0.8;\"/>\r\n      </defs>\r\n      <g>\r\n       <use style=\"stroke:#000000;stroke-width:0.8;\" x=\"58.523438\" xlink:href=\"#mc065f8ca55\" y=\"229.874611\"/>\r\n      </g>\r\n     </g>\r\n     <g id=\"text_9\">\r\n      <!-- −1.00 -->\r\n      <defs>\r\n       <path d=\"M 12.40625 8.296875 \r\nL 28.515625 8.296875 \r\nL 28.515625 63.921875 \r\nL 10.984375 60.40625 \r\nL 10.984375 69.390625 \r\nL 28.421875 72.90625 \r\nL 38.28125 72.90625 \r\nL 38.28125 8.296875 \r\nL 54.390625 8.296875 \r\nL 54.390625 0 \r\nL 12.40625 0 \r\nz\r\n\" id=\"DejaVuSans-49\"/>\r\n       <path d=\"M 10.6875 12.40625 \r\nL 21 12.40625 \r\nL 21 0 \r\nL 10.6875 0 \r\nz\r\n\" id=\"DejaVuSans-46\"/>\r\n      </defs>\r\n      <g transform=\"translate(20.878125 233.67383)scale(0.1 -0.1)\">\r\n       <use xlink:href=\"#DejaVuSans-8722\"/>\r\n       <use x=\"83.789062\" xlink:href=\"#DejaVuSans-49\"/>\r\n       <use x=\"147.412109\" xlink:href=\"#DejaVuSans-46\"/>\r\n       <use x=\"179.199219\" xlink:href=\"#DejaVuSans-48\"/>\r\n       <use x=\"242.822266\" xlink:href=\"#DejaVuSans-48\"/>\r\n      </g>\r\n     </g>\r\n    </g>\r\n    <g id=\"ytick_2\">\r\n     <g id=\"line2d_9\">\r\n      <g>\r\n       <use style=\"stroke:#000000;stroke-width:0.8;\" x=\"58.523438\" xlink:href=\"#mc065f8ca55\" y=\"205.165489\"/>\r\n      </g>\r\n     </g>\r\n     <g id=\"text_10\">\r\n      <!-- −0.75 -->\r\n      <defs>\r\n       <path d=\"M 8.203125 72.90625 \r\nL 55.078125 72.90625 \r\nL 55.078125 68.703125 \r\nL 28.609375 0 \r\nL 18.3125 0 \r\nL 43.21875 64.59375 \r\nL 8.203125 64.59375 \r\nz\r\n\" id=\"DejaVuSans-55\"/>\r\n       <path d=\"M 10.796875 72.90625 \r\nL 49.515625 72.90625 \r\nL 49.515625 64.59375 \r\nL 19.828125 64.59375 \r\nL 19.828125 46.734375 \r\nQ 21.96875 47.46875 24.109375 47.828125 \r\nQ 26.265625 48.1875 28.421875 48.1875 \r\nQ 40.625 48.1875 47.75 41.5 \r\nQ 54.890625 34.8125 54.890625 23.390625 \r\nQ 54.890625 11.625 47.5625 5.09375 \r\nQ 40.234375 -1.421875 26.90625 -1.421875 \r\nQ 22.3125 -1.421875 17.546875 -0.640625 \r\nQ 12.796875 0.140625 7.71875 1.703125 \r\nL 7.71875 11.625 \r\nQ 12.109375 9.234375 16.796875 8.0625 \r\nQ 21.484375 6.890625 26.703125 6.890625 \r\nQ 35.15625 6.890625 40.078125 11.328125 \r\nQ 45.015625 15.765625 45.015625 23.390625 \r\nQ 45.015625 31 40.078125 35.4375 \r\nQ 35.15625 39.890625 26.703125 39.890625 \r\nQ 22.75 39.890625 18.8125 39.015625 \r\nQ 14.890625 38.140625 10.796875 36.28125 \r\nz\r\n\" id=\"DejaVuSans-53\"/>\r\n      </defs>\r\n      <g transform=\"translate(20.878125 208.964708)scale(0.1 -0.1)\">\r\n       <use xlink:href=\"#DejaVuSans-8722\"/>\r\n       <use x=\"83.789062\" xlink:href=\"#DejaVuSans-48\"/>\r\n       <use x=\"147.412109\" xlink:href=\"#DejaVuSans-46\"/>\r\n       <use x=\"179.199219\" xlink:href=\"#DejaVuSans-55\"/>\r\n       <use x=\"242.822266\" xlink:href=\"#DejaVuSans-53\"/>\r\n      </g>\r\n     </g>\r\n    </g>\r\n    <g id=\"ytick_3\">\r\n     <g id=\"line2d_10\">\r\n      <g>\r\n       <use style=\"stroke:#000000;stroke-width:0.8;\" x=\"58.523438\" xlink:href=\"#mc065f8ca55\" y=\"180.456368\"/>\r\n      </g>\r\n     </g>\r\n     <g id=\"text_11\">\r\n      <!-- −0.50 -->\r\n      <g transform=\"translate(20.878125 184.255587)scale(0.1 -0.1)\">\r\n       <use xlink:href=\"#DejaVuSans-8722\"/>\r\n       <use x=\"83.789062\" xlink:href=\"#DejaVuSans-48\"/>\r\n       <use x=\"147.412109\" xlink:href=\"#DejaVuSans-46\"/>\r\n       <use x=\"179.199219\" xlink:href=\"#DejaVuSans-53\"/>\r\n       <use x=\"242.822266\" xlink:href=\"#DejaVuSans-48\"/>\r\n      </g>\r\n     </g>\r\n    </g>\r\n    <g id=\"ytick_4\">\r\n     <g id=\"line2d_11\">\r\n      <g>\r\n       <use style=\"stroke:#000000;stroke-width:0.8;\" x=\"58.523438\" xlink:href=\"#mc065f8ca55\" y=\"155.747246\"/>\r\n      </g>\r\n     </g>\r\n     <g id=\"text_12\">\r\n      <!-- −0.25 -->\r\n      <g transform=\"translate(20.878125 159.546465)scale(0.1 -0.1)\">\r\n       <use xlink:href=\"#DejaVuSans-8722\"/>\r\n       <use x=\"83.789062\" xlink:href=\"#DejaVuSans-48\"/>\r\n       <use x=\"147.412109\" xlink:href=\"#DejaVuSans-46\"/>\r\n       <use x=\"179.199219\" xlink:href=\"#DejaVuSans-50\"/>\r\n       <use x=\"242.822266\" xlink:href=\"#DejaVuSans-53\"/>\r\n      </g>\r\n     </g>\r\n    </g>\r\n    <g id=\"ytick_5\">\r\n     <g id=\"line2d_12\">\r\n      <g>\r\n       <use style=\"stroke:#000000;stroke-width:0.8;\" x=\"58.523438\" xlink:href=\"#mc065f8ca55\" y=\"131.038125\"/>\r\n      </g>\r\n     </g>\r\n     <g id=\"text_13\">\r\n      <!-- 0.00 -->\r\n      <g transform=\"translate(29.257813 134.837344)scale(0.1 -0.1)\">\r\n       <use xlink:href=\"#DejaVuSans-48\"/>\r\n       <use x=\"63.623047\" xlink:href=\"#DejaVuSans-46\"/>\r\n       <use x=\"95.410156\" xlink:href=\"#DejaVuSans-48\"/>\r\n       <use x=\"159.033203\" xlink:href=\"#DejaVuSans-48\"/>\r\n      </g>\r\n     </g>\r\n    </g>\r\n    <g id=\"ytick_6\">\r\n     <g id=\"line2d_13\">\r\n      <g>\r\n       <use style=\"stroke:#000000;stroke-width:0.8;\" x=\"58.523438\" xlink:href=\"#mc065f8ca55\" y=\"106.329004\"/>\r\n      </g>\r\n     </g>\r\n     <g id=\"text_14\">\r\n      <!-- 0.25 -->\r\n      <g transform=\"translate(29.257813 110.128222)scale(0.1 -0.1)\">\r\n       <use xlink:href=\"#DejaVuSans-48\"/>\r\n       <use x=\"63.623047\" xlink:href=\"#DejaVuSans-46\"/>\r\n       <use x=\"95.410156\" xlink:href=\"#DejaVuSans-50\"/>\r\n       <use x=\"159.033203\" xlink:href=\"#DejaVuSans-53\"/>\r\n      </g>\r\n     </g>\r\n    </g>\r\n    <g id=\"ytick_7\">\r\n     <g id=\"line2d_14\">\r\n      <g>\r\n       <use style=\"stroke:#000000;stroke-width:0.8;\" x=\"58.523438\" xlink:href=\"#mc065f8ca55\" y=\"81.619882\"/>\r\n      </g>\r\n     </g>\r\n     <g id=\"text_15\">\r\n      <!-- 0.50 -->\r\n      <g transform=\"translate(29.257813 85.419101)scale(0.1 -0.1)\">\r\n       <use xlink:href=\"#DejaVuSans-48\"/>\r\n       <use x=\"63.623047\" xlink:href=\"#DejaVuSans-46\"/>\r\n       <use x=\"95.410156\" xlink:href=\"#DejaVuSans-53\"/>\r\n       <use x=\"159.033203\" xlink:href=\"#DejaVuSans-48\"/>\r\n      </g>\r\n     </g>\r\n    </g>\r\n    <g id=\"ytick_8\">\r\n     <g id=\"line2d_15\">\r\n      <g>\r\n       <use style=\"stroke:#000000;stroke-width:0.8;\" x=\"58.523438\" xlink:href=\"#mc065f8ca55\" y=\"56.910761\"/>\r\n      </g>\r\n     </g>\r\n     <g id=\"text_16\">\r\n      <!-- 0.75 -->\r\n      <g transform=\"translate(29.257813 60.709979)scale(0.1 -0.1)\">\r\n       <use xlink:href=\"#DejaVuSans-48\"/>\r\n       <use x=\"63.623047\" xlink:href=\"#DejaVuSans-46\"/>\r\n       <use x=\"95.410156\" xlink:href=\"#DejaVuSans-55\"/>\r\n       <use x=\"159.033203\" xlink:href=\"#DejaVuSans-53\"/>\r\n      </g>\r\n     </g>\r\n    </g>\r\n    <g id=\"ytick_9\">\r\n     <g id=\"line2d_16\">\r\n      <g>\r\n       <use style=\"stroke:#000000;stroke-width:0.8;\" x=\"58.523438\" xlink:href=\"#mc065f8ca55\" y=\"32.201639\"/>\r\n      </g>\r\n     </g>\r\n     <g id=\"text_17\">\r\n      <!-- 1.00 -->\r\n      <g transform=\"translate(29.257813 36.000858)scale(0.1 -0.1)\">\r\n       <use xlink:href=\"#DejaVuSans-49\"/>\r\n       <use x=\"63.623047\" xlink:href=\"#DejaVuSans-46\"/>\r\n       <use x=\"95.410156\" xlink:href=\"#DejaVuSans-48\"/>\r\n       <use x=\"159.033203\" xlink:href=\"#DejaVuSans-48\"/>\r\n      </g>\r\n     </g>\r\n    </g>\r\n    <g id=\"text_18\">\r\n     <!-- sin(X) -->\r\n     <defs>\r\n      <path d=\"M 44.28125 53.078125 \r\nL 44.28125 44.578125 \r\nQ 40.484375 46.53125 36.375 47.5 \r\nQ 32.28125 48.484375 27.875 48.484375 \r\nQ 21.1875 48.484375 17.84375 46.4375 \r\nQ 14.5 44.390625 14.5 40.28125 \r\nQ 14.5 37.15625 16.890625 35.375 \r\nQ 19.28125 33.59375 26.515625 31.984375 \r\nL 29.59375 31.296875 \r\nQ 39.15625 29.25 43.1875 25.515625 \r\nQ 47.21875 21.78125 47.21875 15.09375 \r\nQ 47.21875 7.46875 41.1875 3.015625 \r\nQ 35.15625 -1.421875 24.609375 -1.421875 \r\nQ 20.21875 -1.421875 15.453125 -0.5625 \r\nQ 10.6875 0.296875 5.421875 2 \r\nL 5.421875 11.28125 \r\nQ 10.40625 8.6875 15.234375 7.390625 \r\nQ 20.0625 6.109375 24.8125 6.109375 \r\nQ 31.15625 6.109375 34.5625 8.28125 \r\nQ 37.984375 10.453125 37.984375 14.40625 \r\nQ 37.984375 18.0625 35.515625 20.015625 \r\nQ 33.0625 21.96875 24.703125 23.78125 \r\nL 21.578125 24.515625 \r\nQ 13.234375 26.265625 9.515625 29.90625 \r\nQ 5.8125 33.546875 5.8125 39.890625 \r\nQ 5.8125 47.609375 11.28125 51.796875 \r\nQ 16.75 56 26.8125 56 \r\nQ 31.78125 56 36.171875 55.265625 \r\nQ 40.578125 54.546875 44.28125 53.078125 \r\nz\r\n\" id=\"DejaVuSans-115\"/>\r\n      <path d=\"M 9.421875 54.6875 \r\nL 18.40625 54.6875 \r\nL 18.40625 0 \r\nL 9.421875 0 \r\nz\r\nM 9.421875 75.984375 \r\nL 18.40625 75.984375 \r\nL 18.40625 64.59375 \r\nL 9.421875 64.59375 \r\nz\r\n\" id=\"DejaVuSans-105\"/>\r\n      <path d=\"M 54.890625 33.015625 \r\nL 54.890625 0 \r\nL 45.90625 0 \r\nL 45.90625 32.71875 \r\nQ 45.90625 40.484375 42.875 44.328125 \r\nQ 39.84375 48.1875 33.796875 48.1875 \r\nQ 26.515625 48.1875 22.3125 43.546875 \r\nQ 18.109375 38.921875 18.109375 30.90625 \r\nL 18.109375 0 \r\nL 9.078125 0 \r\nL 9.078125 54.6875 \r\nL 18.109375 54.6875 \r\nL 18.109375 46.1875 \r\nQ 21.34375 51.125 25.703125 53.5625 \r\nQ 30.078125 56 35.796875 56 \r\nQ 45.21875 56 50.046875 50.171875 \r\nQ 54.890625 44.34375 54.890625 33.015625 \r\nz\r\n\" id=\"DejaVuSans-110\"/>\r\n      <path d=\"M 31 75.875 \r\nQ 24.46875 64.65625 21.28125 53.65625 \r\nQ 18.109375 42.671875 18.109375 31.390625 \r\nQ 18.109375 20.125 21.3125 9.0625 \r\nQ 24.515625 -2 31 -13.1875 \r\nL 23.1875 -13.1875 \r\nQ 15.875 -1.703125 12.234375 9.375 \r\nQ 8.59375 20.453125 8.59375 31.390625 \r\nQ 8.59375 42.28125 12.203125 53.3125 \r\nQ 15.828125 64.359375 23.1875 75.875 \r\nz\r\n\" id=\"DejaVuSans-40\"/>\r\n      <path d=\"M 8.015625 75.875 \r\nL 15.828125 75.875 \r\nQ 23.140625 64.359375 26.78125 53.3125 \r\nQ 30.421875 42.28125 30.421875 31.390625 \r\nQ 30.421875 20.453125 26.78125 9.375 \r\nQ 23.140625 -1.703125 15.828125 -13.1875 \r\nL 8.015625 -13.1875 \r\nQ 14.5 -2 17.703125 9.0625 \r\nQ 20.90625 20.125 20.90625 31.390625 \r\nQ 20.90625 42.671875 17.703125 53.65625 \r\nQ 14.5 64.65625 8.015625 75.875 \r\nz\r\n\" id=\"DejaVuSans-41\"/>\r\n     </defs>\r\n     <g transform=\"translate(14.798438 145.527187)rotate(-90)scale(0.1 -0.1)\">\r\n      <use xlink:href=\"#DejaVuSans-115\"/>\r\n      <use x=\"52.099609\" xlink:href=\"#DejaVuSans-105\"/>\r\n      <use x=\"79.882812\" xlink:href=\"#DejaVuSans-110\"/>\r\n      <use x=\"143.261719\" xlink:href=\"#DejaVuSans-40\"/>\r\n      <use x=\"182.275391\" xlink:href=\"#DejaVuSans-88\"/>\r\n      <use x=\"250.78125\" xlink:href=\"#DejaVuSans-41\"/>\r\n     </g>\r\n    </g>\r\n   </g>\r\n   <g id=\"line2d_17\">\r\n    <path clip-path=\"url(#pd18aa6ddd6)\" d=\"M 73.741619 131.038125 \r\nL 81.053659 101.651089 \r\nL 85.014347 86.680391 \r\nL 88.06103 75.949971 \r\nL 90.803044 67.03232 \r\nL 93.240391 59.790142 \r\nL 95.677737 53.268864 \r\nL 97.810415 48.206172 \r\nL 99.638425 44.376191 \r\nL 101.466435 41.039627 \r\nL 102.989777 38.649864 \r\nL 104.513118 36.625446 \r\nL 106.03646 34.974377 \r\nL 107.255133 33.926772 \r\nL 108.473806 33.12497 \r\nL 109.692479 32.571 \r\nL 110.911152 32.266265 \r\nL 112.129826 32.211536 \r\nL 113.348499 32.406951 \r\nL 114.567172 32.852016 \r\nL 115.785845 33.545604 \r\nL 117.004519 34.48596 \r\nL 118.223192 35.670704 \r\nL 119.746533 37.490677 \r\nL 121.269875 39.680578 \r\nL 122.793216 42.231748 \r\nL 124.621226 45.755723 \r\nL 126.449236 49.76526 \r\nL 128.581914 55.026146 \r\nL 130.714592 60.875992 \r\nL 133.151939 68.224367 \r\nL 135.893953 77.247023 \r\nL 138.940637 88.074588 \r\nL 142.596656 101.947992 \r\nL 147.471349 121.418121 \r\nL 157.830071 163.083859 \r\nL 161.486091 176.77909 \r\nL 164.532774 187.409711 \r\nL 167.274789 196.220152 \r\nL 169.712135 203.354343 \r\nL 171.844813 208.99882 \r\nL 173.977492 214.039237 \r\nL 175.805501 217.849075 \r\nL 177.633511 221.164648 \r\nL 179.156853 223.536356 \r\nL 180.680194 225.542285 \r\nL 182.203536 227.174502 \r\nL 183.422209 228.206816 \r\nL 184.640882 228.993182 \r\nL 185.859555 229.531609 \r\nL 187.078229 229.820735 \r\nL 188.296902 229.859828 \r\nL 189.515575 229.648788 \r\nL 190.734248 229.188151 \r\nL 191.952922 228.479081 \r\nL 193.171595 227.523375 \r\nL 194.390268 226.32345 \r\nL 195.913609 224.484798 \r\nL 197.436951 222.276615 \r\nL 198.960293 219.707635 \r\nL 200.788302 216.163008 \r\nL 202.616312 212.133716 \r\nL 204.74899 206.851066 \r\nL 206.881668 200.980998 \r\nL 209.319015 193.611601 \r\nL 212.06103 184.56821 \r\nL 215.107713 173.721536 \r\nL 218.763732 159.831068 \r\nL 223.638425 140.348743 \r\nL 233.997148 98.698526 \r\nL 237.653167 85.02186 \r\nL 240.69985 74.411514 \r\nL 243.441865 65.622778 \r\nL 245.879211 58.510397 \r\nL 248.01189 52.886768 \r\nL 250.144568 47.868675 \r\nL 251.972578 44.079018 \r\nL 253.800587 40.784468 \r\nL 255.323929 38.430838 \r\nL 256.84727 36.443419 \r\nL 258.370612 34.830069 \r\nL 259.589285 33.813057 \r\nL 260.807958 33.042135 \r\nL 262.026632 32.519256 \r\nL 263.245305 32.245742 \r\nL 264.463978 32.222287 \r\nL 265.682651 32.448948 \r\nL 266.901324 32.925153 \r\nL 268.119998 33.649696 \r\nL 269.338671 34.620744 \r\nL 270.557344 35.835838 \r\nL 272.080686 37.693152 \r\nL 273.604027 39.919594 \r\nL 275.127369 42.506359 \r\nL 276.955379 46.071602 \r\nL 278.783388 50.12061 \r\nL 280.916066 55.424972 \r\nL 283.048745 61.315204 \r\nL 285.486091 68.705551 \r\nL 288.228106 77.769586 \r\nL 291.274789 88.635261 \r\nL 294.930809 102.542658 \r\nL 299.805501 122.036985 \r\nL 309.859555 162.495181 \r\nL 313.515575 176.227135 \r\nL 316.562258 186.897993 \r\nL 319.304273 195.751581 \r\nL 321.741619 202.92918 \r\nL 323.874297 208.615183 \r\nL 326.006976 213.7001 \r\nL 327.834985 217.550185 \r\nL 329.662995 220.907708 \r\nL 331.491005 223.753551 \r\nL 333.014347 225.722442 \r\nL 334.537688 227.316908 \r\nL 335.756361 228.318609 \r\nL 336.975035 229.074078 \r\nL 338.193708 229.581404 \r\nL 339.412381 229.839303 \r\nL 340.631054 229.847122 \r\nL 341.849727 229.604841 \r\nL 343.068401 229.113072 \r\nL 344.287074 228.373063 \r\nL 345.505747 227.386684 \r\nL 347.029089 225.811116 \r\nL 348.55243 223.860774 \r\nL 350.075772 221.54337 \r\nL 351.903781 218.290966 \r\nL 353.731791 214.541781 \r\nL 355.559801 210.317163 \r\nL 357.692479 204.819778 \r\nL 360.129826 197.839726 \r\nL 362.567172 190.183765 \r\nL 365.309187 180.859577 \r\nL 368.660538 168.609807 \r\nL 372.621226 153.226067 \r\nL 378.105256 131.038125 \r\nL 378.105256 131.038125 \r\n\" style=\"fill:none;stroke:#ff0000;stroke-linecap:square;stroke-width:2;\"/>\r\n   </g>\r\n   <g id=\"patch_3\">\r\n    <path d=\"M 58.523438 239.758125 \r\nL 58.523438 22.318125 \r\n\" style=\"fill:none;stroke:#000000;stroke-linecap:square;stroke-linejoin:miter;stroke-width:0.8;\"/>\r\n   </g>\r\n   <g id=\"patch_4\">\r\n    <path d=\"M 393.323438 239.758125 \r\nL 393.323438 22.318125 \r\n\" style=\"fill:none;stroke:#000000;stroke-linecap:square;stroke-linejoin:miter;stroke-width:0.8;\"/>\r\n   </g>\r\n   <g id=\"patch_5\">\r\n    <path d=\"M 58.523438 239.758125 \r\nL 393.323438 239.758125 \r\n\" style=\"fill:none;stroke:#000000;stroke-linecap:square;stroke-linejoin:miter;stroke-width:0.8;\"/>\r\n   </g>\r\n   <g id=\"patch_6\">\r\n    <path d=\"M 58.523438 22.318125 \r\nL 393.323438 22.318125 \r\n\" style=\"fill:none;stroke:#000000;stroke-linecap:square;stroke-linejoin:miter;stroke-width:0.8;\"/>\r\n   </g>\r\n   <g id=\"text_19\">\r\n    <!-- The sin of X -->\r\n    <defs>\r\n     <path d=\"M -0.296875 72.90625 \r\nL 61.375 72.90625 \r\nL 61.375 64.59375 \r\nL 35.5 64.59375 \r\nL 35.5 0 \r\nL 25.59375 0 \r\nL 25.59375 64.59375 \r\nL -0.296875 64.59375 \r\nz\r\n\" id=\"DejaVuSans-84\"/>\r\n     <path d=\"M 54.890625 33.015625 \r\nL 54.890625 0 \r\nL 45.90625 0 \r\nL 45.90625 32.71875 \r\nQ 45.90625 40.484375 42.875 44.328125 \r\nQ 39.84375 48.1875 33.796875 48.1875 \r\nQ 26.515625 48.1875 22.3125 43.546875 \r\nQ 18.109375 38.921875 18.109375 30.90625 \r\nL 18.109375 0 \r\nL 9.078125 0 \r\nL 9.078125 75.984375 \r\nL 18.109375 75.984375 \r\nL 18.109375 46.1875 \r\nQ 21.34375 51.125 25.703125 53.5625 \r\nQ 30.078125 56 35.796875 56 \r\nQ 45.21875 56 50.046875 50.171875 \r\nQ 54.890625 44.34375 54.890625 33.015625 \r\nz\r\n\" id=\"DejaVuSans-104\"/>\r\n     <path d=\"M 56.203125 29.59375 \r\nL 56.203125 25.203125 \r\nL 14.890625 25.203125 \r\nQ 15.484375 15.921875 20.484375 11.0625 \r\nQ 25.484375 6.203125 34.421875 6.203125 \r\nQ 39.59375 6.203125 44.453125 7.46875 \r\nQ 49.3125 8.734375 54.109375 11.28125 \r\nL 54.109375 2.78125 \r\nQ 49.265625 0.734375 44.1875 -0.34375 \r\nQ 39.109375 -1.421875 33.890625 -1.421875 \r\nQ 20.796875 -1.421875 13.15625 6.1875 \r\nQ 5.515625 13.8125 5.515625 26.8125 \r\nQ 5.515625 40.234375 12.765625 48.109375 \r\nQ 20.015625 56 32.328125 56 \r\nQ 43.359375 56 49.78125 48.890625 \r\nQ 56.203125 41.796875 56.203125 29.59375 \r\nz\r\nM 47.21875 32.234375 \r\nQ 47.125 39.59375 43.09375 43.984375 \r\nQ 39.0625 48.390625 32.421875 48.390625 \r\nQ 24.90625 48.390625 20.390625 44.140625 \r\nQ 15.875 39.890625 15.1875 32.171875 \r\nz\r\n\" id=\"DejaVuSans-101\"/>\r\n     <path id=\"DejaVuSans-32\"/>\r\n     <path d=\"M 30.609375 48.390625 \r\nQ 23.390625 48.390625 19.1875 42.75 \r\nQ 14.984375 37.109375 14.984375 27.296875 \r\nQ 14.984375 17.484375 19.15625 11.84375 \r\nQ 23.34375 6.203125 30.609375 6.203125 \r\nQ 37.796875 6.203125 41.984375 11.859375 \r\nQ 46.1875 17.53125 46.1875 27.296875 \r\nQ 46.1875 37.015625 41.984375 42.703125 \r\nQ 37.796875 48.390625 30.609375 48.390625 \r\nz\r\nM 30.609375 56 \r\nQ 42.328125 56 49.015625 48.375 \r\nQ 55.71875 40.765625 55.71875 27.296875 \r\nQ 55.71875 13.875 49.015625 6.21875 \r\nQ 42.328125 -1.421875 30.609375 -1.421875 \r\nQ 18.84375 -1.421875 12.171875 6.21875 \r\nQ 5.515625 13.875 5.515625 27.296875 \r\nQ 5.515625 40.765625 12.171875 48.375 \r\nQ 18.84375 56 30.609375 56 \r\nz\r\n\" id=\"DejaVuSans-111\"/>\r\n     <path d=\"M 37.109375 75.984375 \r\nL 37.109375 68.5 \r\nL 28.515625 68.5 \r\nQ 23.6875 68.5 21.796875 66.546875 \r\nQ 19.921875 64.59375 19.921875 59.515625 \r\nL 19.921875 54.6875 \r\nL 34.71875 54.6875 \r\nL 34.71875 47.703125 \r\nL 19.921875 47.703125 \r\nL 19.921875 0 \r\nL 10.890625 0 \r\nL 10.890625 47.703125 \r\nL 2.296875 47.703125 \r\nL 2.296875 54.6875 \r\nL 10.890625 54.6875 \r\nL 10.890625 58.5 \r\nQ 10.890625 67.625 15.140625 71.796875 \r\nQ 19.390625 75.984375 28.609375 75.984375 \r\nz\r\n\" id=\"DejaVuSans-102\"/>\r\n    </defs>\r\n    <g transform=\"translate(190.555313 16.318125)scale(0.12 -0.12)\">\r\n     <use xlink:href=\"#DejaVuSans-84\"/>\r\n     <use x=\"61.083984\" xlink:href=\"#DejaVuSans-104\"/>\r\n     <use x=\"124.462891\" xlink:href=\"#DejaVuSans-101\"/>\r\n     <use x=\"185.986328\" xlink:href=\"#DejaVuSans-32\"/>\r\n     <use x=\"217.773438\" xlink:href=\"#DejaVuSans-115\"/>\r\n     <use x=\"269.873047\" xlink:href=\"#DejaVuSans-105\"/>\r\n     <use x=\"297.65625\" xlink:href=\"#DejaVuSans-110\"/>\r\n     <use x=\"361.035156\" xlink:href=\"#DejaVuSans-32\"/>\r\n     <use x=\"392.822266\" xlink:href=\"#DejaVuSans-111\"/>\r\n     <use x=\"454.003906\" xlink:href=\"#DejaVuSans-102\"/>\r\n     <use x=\"489.208984\" xlink:href=\"#DejaVuSans-32\"/>\r\n     <use x=\"520.996094\" xlink:href=\"#DejaVuSans-88\"/>\r\n    </g>\r\n   </g>\r\n   <g id=\"legend_1\">\r\n    <g id=\"patch_7\">\r\n     <path d=\"M 188.750781 139.877187 \r\nL 263.096094 139.877187 \r\nQ 265.096094 139.877187 265.096094 137.877187 \r\nL 265.096094 124.199062 \r\nQ 265.096094 122.199062 263.096094 122.199062 \r\nL 188.750781 122.199062 \r\nQ 186.750781 122.199062 186.750781 124.199062 \r\nL 186.750781 137.877187 \r\nQ 186.750781 139.877187 188.750781 139.877187 \r\nz\r\n\" style=\"fill:#ffffff;opacity:0.8;stroke:#cccccc;stroke-linejoin:miter;\"/>\r\n    </g>\r\n    <g id=\"line2d_18\">\r\n     <path d=\"M 190.750781 130.2975 \r\nL 210.750781 130.2975 \r\n\" style=\"fill:none;stroke:#ff0000;stroke-linecap:square;stroke-width:2;\"/>\r\n    </g>\r\n    <g id=\"line2d_19\"/>\r\n    <g id=\"text_20\">\r\n     <!-- y=sin(x) -->\r\n     <defs>\r\n      <path d=\"M 32.171875 -5.078125 \r\nQ 28.375 -14.84375 24.75 -17.8125 \r\nQ 21.140625 -20.796875 15.09375 -20.796875 \r\nL 7.90625 -20.796875 \r\nL 7.90625 -13.28125 \r\nL 13.1875 -13.28125 \r\nQ 16.890625 -13.28125 18.9375 -11.515625 \r\nQ 21 -9.765625 23.484375 -3.21875 \r\nL 25.09375 0.875 \r\nL 2.984375 54.6875 \r\nL 12.5 54.6875 \r\nL 29.59375 11.921875 \r\nL 46.6875 54.6875 \r\nL 56.203125 54.6875 \r\nz\r\n\" id=\"DejaVuSans-121\"/>\r\n      <path d=\"M 10.59375 45.40625 \r\nL 73.1875 45.40625 \r\nL 73.1875 37.203125 \r\nL 10.59375 37.203125 \r\nz\r\nM 10.59375 25.484375 \r\nL 73.1875 25.484375 \r\nL 73.1875 17.1875 \r\nL 10.59375 17.1875 \r\nz\r\n\" id=\"DejaVuSans-61\"/>\r\n      <path d=\"M 54.890625 54.6875 \r\nL 35.109375 28.078125 \r\nL 55.90625 0 \r\nL 45.3125 0 \r\nL 29.390625 21.484375 \r\nL 13.484375 0 \r\nL 2.875 0 \r\nL 24.125 28.609375 \r\nL 4.6875 54.6875 \r\nL 15.28125 54.6875 \r\nL 29.78125 35.203125 \r\nL 44.28125 54.6875 \r\nz\r\n\" id=\"DejaVuSans-120\"/>\r\n     </defs>\r\n     <g transform=\"translate(218.750781 133.7975)scale(0.1 -0.1)\">\r\n      <use xlink:href=\"#DejaVuSans-121\"/>\r\n      <use x=\"59.179688\" xlink:href=\"#DejaVuSans-61\"/>\r\n      <use x=\"142.96875\" xlink:href=\"#DejaVuSans-115\"/>\r\n      <use x=\"195.068359\" xlink:href=\"#DejaVuSans-105\"/>\r\n      <use x=\"222.851562\" xlink:href=\"#DejaVuSans-110\"/>\r\n      <use x=\"286.230469\" xlink:href=\"#DejaVuSans-40\"/>\r\n      <use x=\"325.244141\" xlink:href=\"#DejaVuSans-120\"/>\r\n      <use x=\"384.423828\" xlink:href=\"#DejaVuSans-41\"/>\r\n     </g>\r\n    </g>\r\n   </g>\r\n  </g>\r\n </g>\r\n <defs>\r\n  <clipPath id=\"pd18aa6ddd6\">\r\n   <rect height=\"217.44\" width=\"334.8\" x=\"58.523438\" y=\"22.318125\"/>\r\n  </clipPath>\r\n </defs>\r\n</svg>\r\n",
      "image/png": "[encoded data removed]"
     },
     "metadata": {
      "needs_background": "light"
     }
    }
   ],
   "source": [
    "# matplotlib函数\n",
    "import matplotlib.pyplot as plt\n",
    "\n",
    "x=np.linspace(-2*np.pi,2*np.pi,1000)\n",
    "y=np.sin(x)\n",
    "plt.plot(x,y, label=\"y=sin(x)\", linewidth=2, color=\"red\")\n",
    "plt.xlabel(\"X\")\n",
    "plt.ylabel(\"sin(X)\")\n",
    "plt.legend(loc=\"center\")\n",
    "plt.title(\"The sin of X\")\n",
    "plt.show()"
   ]
  },
  {
   "source": [
    "## numpy数组的创建, 属性, 索引及切片"
   ],
   "cell_type": "markdown",
   "metadata": {}
  },
  {
   "cell_type": "code",
   "execution_count": 66,
   "metadata": {
    "tags": []
   },
   "outputs": [
    {
     "output_type": "stream",
     "name": "stdout",
     "text": "a is[[1 2 3]\n [4 5 6]]\nb is[0 2 4 6 8]\nc is[  1.           3.02040816   5.04081633   7.06122449   9.08163265\n  11.10204082  13.12244898  15.14285714  17.16326531  19.18367347\n  21.20408163  23.2244898   25.24489796  27.26530612  29.28571429\n  31.30612245  33.32653061  35.34693878  37.36734694  39.3877551\n  41.40816327  43.42857143  45.44897959  47.46938776  49.48979592\n  51.51020408  53.53061224  55.55102041  57.57142857  59.59183673\n  61.6122449   63.63265306  65.65306122  67.67346939  69.69387755\n  71.71428571  73.73469388  75.75510204  77.7755102   79.79591837\n  81.81632653  83.83673469  85.85714286  87.87755102  89.89795918\n  91.91836735  93.93877551  95.95918367  97.97959184 100.        ]\nd is[   2.    4.    8.   16.   32.   64.  128.  256.  512. 1024.]\ne is[   2    4    8   16   32   64  128  256  512 1024]\nf is[2, 2, 2, 2, 2, 2, 2, 2, 2, 2]\n"
    }
   ],
   "source": [
    "# 创建\n",
    "import numpy as np\n",
    "import itertools\n",
    "\n",
    "a=np.array([[1,2,3], [4,5,6]]) # 函数内使用列表进行数据录入\n",
    "b=np.arange(0,10,2) # 范围生成,从0到10(不含), 步长为2\n",
    "c=np.linspace(1,100,50) # 生成线性空间, 等差数列, 从1到100(含), 生成50个数\n",
    "# 有endpoint=False 选项,为F时, 不取末点, 机制为生成n+1个数, 再去掉最后一个\n",
    "d=np.logspace(1,10, base=2, num=10) # 等比数列, 从1到10生成10个数, 再作为2的指数\n",
    "#即\n",
    "e=np.arange(1,11,1) # 1-9序列\n",
    "e=2**e\n",
    "g=np.arange(1,10,10)\n",
    "g=g**2\n",
    "print(\"a is{}\\nb is{}\\nc is{}\\nd is{}\\ne is{}\\nf is{}\".format(a,b,c,d,e,f))"
   ]
  },
  {
   "cell_type": "code",
   "execution_count": 88,
   "metadata": {
    "tags": []
   },
   "outputs": [
    {
     "output_type": "stream",
     "name": "stdout",
     "text": "矩阵加法\n [[10. 10. 10. 10.]\n [10. 10. 10. 10.]\n [10. 10. 10. 10.]]\n矩阵乘法\n [[0. 0. 0.]\n [0. 0. 0.]\n [0. 0. 0.]]\na is\n[[0. 0. 0. 0.]\n [0. 0. 0. 0.]\n [0. 0. 0. 0.]]\nb is\n[[1. 1. 1.]\n [1. 1. 1.]\n [1. 1. 1.]\n [1. 1. 1.]]\nc is\n[[1. 0. 0. 0.]\n [0. 1. 0. 0.]\n [0. 0. 1. 0.]\n [0. 0. 0. 1.]]\nd is\n[[1 0 0 0 0]\n [0 2 0 0 0]\n [0 0 3 0 0]\n [0 0 0 4 0]\n [0 0 0 0 5]]\n形状(3, 4) 元素个数12 维度2 类型float64\n"
    }
   ],
   "source": [
    "# 0矩阵, 1矩阵, 单位阵\n",
    "a=np.zeros([3,4])\n",
    "b=np.ones([4,3])\n",
    "c=np.eye(4) # 方阵\n",
    "d=np.diag([1,2,3,4,5]) # 对角阵\n",
    "# 加减时对每个元素进行操作\n",
    "print(\"矩阵加法\\n\", a+10) # 矩阵加法\n",
    "print(\"矩阵乘法\\n\", np.dot(a,b)) # 矩阵乘法\n",
    "print(\"a is\\n{}\\nb is\\n{}\\nc is\\n{}\\nd is\\n{}\".format(a,b,c,d))\n",
    "\n",
    "\n",
    "print(\"形状{} 元素个数{} 维度{} 类型{}\".format(a.shape, a.size, a.ndim, b.dtype))"
   ]
  },
  {
   "cell_type": "code",
   "execution_count": 106,
   "metadata": {
    "tags": []
   },
   "outputs": [
    {
     "output_type": "stream",
     "name": "stdout",
     "text": "[10, 2, 3]\n[10, 2, 3]\n[10, 9, 3]\n[10, 2, 3]\n"
    }
   ],
   "source": [
    "# 深复制\n",
    "a=[1,2,3]\n",
    "b=a\n",
    "b[0]=10 # 改变b, a也变\n",
    "print(b)\n",
    "print(a)\n",
    "\n",
    "c=a.copy()\n",
    "c[1]=9 # 深复制,改变c, a不变\n",
    "print(c)\n",
    "print(a)"
   ]
  },
  {
   "cell_type": "code",
   "execution_count": 102,
   "metadata": {
    "tags": []
   },
   "outputs": [
    {
     "output_type": "stream",
     "name": "stdout",
     "text": "[[ 0  1  2  3]\n [ 4  5  6  7]\n [ 8  9 10 11]\n [12 13 14 15]]\n[ 2  6 10 14]\n[ 2  6 10 14]\n"
    }
   ],
   "source": [
    "# 索引和切片\n",
    "a=np.arange(0,16)\n",
    "a=a.reshape([4,4]) # 重塑形状\n",
    "print(a)\n",
    "print(a[1,2]) # 获取第一行第二列\n",
    "print(a[:,2]) # 获取第二列的全部, :,从头到尾,表示全部\n"
   ]
  },
  {
   "cell_type": "code",
   "execution_count": 162,
   "metadata": {
    "tags": []
   },
   "outputs": [
    {
     "output_type": "execute_result",
     "data": {
      "text/plain": "array([15, 48,  1, 20, 40, 35, 37, 18, 50, 39])"
     },
     "metadata": {},
     "execution_count": 162
    }
   ],
   "source": [
    "import itertools\n",
    "import random\n",
    "\n",
    "a=[]\n",
    "for i in range(0,16):\n",
    "    a.append(random.randint(1,100))\n",
    "\n",
    "a=np.array(a)\n",
    "a=a.reshape([4,4])\n",
    "a[~(a>50)] # ~取对立\n"
   ]
  },
  {
   "cell_type": "code",
   "execution_count": 200,
   "metadata": {
    "tags": []
   },
   "outputs": [
    {
     "output_type": "stream",
     "name": "stdout",
     "text": "[[25 84 78 34]\n [78 77 37 34]\n [ 9  9  4 13]\n [73 38 31 89]]\n[[25 84 78 34]\n [78 77 37 34]\n [73 38 31 89]]\n[[25 84 34]\n [78 77 34]\n [ 9  9 13]\n [73 38 89]]\n[84 37]\n[[78 37]\n [25 78]\n [73 31]]\n"
    },
    {
     "output_type": "execute_result",
     "data": {
      "text/plain": "array([[78, 37],\n       [25, 78],\n       [73, 31]])"
     },
     "metadata": {},
     "execution_count": 200
    }
   ],
   "source": [
    "# 花式索引\n",
    "# 同时取两行或多行\n",
    "a=[]\n",
    "for i in range(0,16):\n",
    "    a.append(random.randint(1,100))\n",
    "\n",
    "a=np.array(a)\n",
    "a=a.reshape([4,4])\n",
    "print(a)\n",
    "print(a[[0,1,3],:]) # 取0,1,3行\n",
    "print(a[:,[0,1,3]]) # 取0,1,3列\n",
    "print(a[[0,1],[1,2]]) # 取第0,1行, 第1,2列交叉位置的\n",
    "print(a[np.ix_([1,0,3], [0,2])])\n",
    "# 等同于\n",
    "a[[1,0,3]] [:,[0,2]] # 第1,0,3行的第0,2列, 可以不同行列"
   ]
  },
  {
   "source": [
    "## numpy 高级应用  \n",
    "数组形状改变  \n",
    "数组通用函数ufunc的广播机制  \n",
    "排序与搜索"
   ],
   "cell_type": "markdown",
   "metadata": {}
  },
  {
   "cell_type": "code",
   "execution_count": 237,
   "metadata": {
    "tags": []
   },
   "outputs": [
    {
     "output_type": "stream",
     "name": "stdout",
     "text": "1\n(6,)\n[[1 2 3 4 5 6]]\n(1, 6)\na is[1 2 3 4 5 6]\nb is[[1 2 3]\n [4 5 6]]\n"
    }
   ],
   "source": [
    "import numpy as np\n",
    "import pandas as pd\n",
    "\n",
    "a=np.array([1,2,3,4,5,6])\n",
    "b=a.reshape([2,3]) # 不改变原对象\n",
    "b=a.reshape([-1,3]) # 只指定一个维度就可以\n",
    "a.shape = (3,2) # 指定形状\n",
    "a.resize(2,3) # 会改变原对象\n",
    "a=a.ravel() # 按行展开为一维, 可以直接对其进行赋值, 改变原对象\n",
    "a=a.flatten() # 同效 , 直接赋值, 不改变原对象\n",
    "a=a.ravel(order=\"F\") # 按列展开为一维\n",
    "a=a.flatten(order=\"F\") #　同效\n",
    "c=a.ravel()\n",
    "print(c.ndim) # 一维\n",
    "print(c.shape) # \n",
    "c=c[np.newaxis,:] # 添加行维度\n",
    "print(c)\n",
    "print(c.shape)\n",
    "print(\"a is{}\\nb is{}\".format(a,b))\n",
    "\n"
   ]
  },
  {
   "source": [
    "## array的合并"
   ],
   "cell_type": "markdown",
   "metadata": {}
  },
  {
   "cell_type": "code",
   "execution_count": 240,
   "metadata": {
    "tags": []
   },
   "outputs": [
    {
     "output_type": "execute_result",
     "data": {
      "text/plain": "array([[1, 2, 3, 1, 2, 3],\n       [2, 3, 4, 2, 3, 4]])"
     },
     "metadata": {},
     "execution_count": 240
    }
   ],
   "source": [
    "a=np.array([[1,2,3],[2,3,4]])\n",
    "b=np.array([[5,6,7],[6,7,8]])\n",
    "np.vstack((a,b)) # 纵向合并\n",
    "np.hstack((a,b)) # 横向合并\n",
    "# 或\n",
    "np.concatenate((a,b), axis=0) # 按行合并\n",
    "np.concatenate((a,b), axis=1) # 按列合并\n",
    "\n",
    "# 复制\n",
    "np.tile(a, (1,2)) # 行复制1次,列复制2次"
   ]
  },
  {
   "source": [
    "## 数组ufunc广播机制"
   ],
   "cell_type": "markdown",
   "metadata": {}
  },
  {
   "cell_type": "code",
   "execution_count": 268,
   "metadata": {
    "tags": []
   },
   "outputs": [
    {
     "output_type": "stream",
     "name": "stdout",
     "text": "[[1. 1. 1. 1.]\n [1. 1. 1. 1.]\n [1. 1. 1. 1.]\n [1. 1. 1. 1.]]\n[[2. 2. 2. 2.]\n [2. 2. 2. 2.]\n [2. 2. 2. 2.]\n [2. 2. 2. 2.]]\n[[1. 2. 3. 4.]\n [1. 2. 3. 4.]\n [1. 2. 3. 4.]\n [1. 2. 3. 4.]]\n------\n [[1 2 3]\n [4 5 6]\n [7 8 9]] [[1. 1. 1.]\n [1. 1. 1.]\n [1. 1. 1.]]\n[[ 2.  3.  4.]\n [ 5.  6.  7.]\n [ 8.  9. 10.]]\n[[0. 1. 2.]\n [3. 4. 5.]\n [6. 7. 8.]]\n[[1. 2. 3.]\n [4. 5. 6.]\n [7. 8. 9.]]\n[[1. 2. 3.]\n [4. 5. 6.]\n [7. 8. 9.]]\n[[1. 2. 3.]\n [4. 5. 6.]\n [7. 8. 9.]]\n[[  1   8  27]\n [ 64 125 216]\n [343 512 729]]\n"
    }
   ],
   "source": [
    "# ufunc函数, 能对array所有元素进行操作的函数\n",
    "# Broadcasting 广播, 指对不同形状的array之间执行算术运算的方式\n",
    "# 不同形状的array运算时, numpy会进行广播机制\n",
    "# numpy可以向量化运算array\n",
    "\n",
    "# 广播\n",
    "a=np.zeros((4,4)) # 四行四列0矩阵\n",
    "b=np.array([1,1,1,1]) # 一行四列矩阵\n",
    "# 相加时, 行数不同, 会先对不够的矩阵按行补齐, 再计算\n",
    "c=np.array([[2],[2],[2],[2]])\n",
    "# 先补齐列再计算\n",
    "d=np.array([1,2,3,4]) # 行与列必须有一个与原式相同, 不然无法广播\n",
    "print(a+b)\n",
    "print(a+c)\n",
    "print(a+d)\n",
    "\n",
    "# 通用函数\n",
    "a=np.array([[1,2,3],[4,5,6],[7,8,9]])\n",
    "b=np.ones([3,3])\n",
    "print(\"------\\n\",a,b)\n",
    "print(np.add(a,b))\n",
    "print(np.subtract(a,b))\n",
    "print(np.divide(a,b))\n",
    "print((np.multiply(a,b)))\n",
    "print((np.divide(a,b)))\n",
    "print((np.power(a,3)))"
   ]
  },
  {
   "cell_type": "code",
   "execution_count": 283,
   "metadata": {},
   "outputs": [
    {
     "output_type": "execute_result",
     "data": {
      "text/plain": "array([False, False, False, False, False, False, False, False, False,\n       False, False, False, False])"
     },
     "metadata": {},
     "execution_count": 283
    }
   ],
   "source": [
    "# 集合操作\n",
    "a=np.array([1,1,2,2,3,3,4,4,5,6,7,8,8])\n",
    "b=np.array([1,2,9])\n",
    "np.unique(a) # 去重\n",
    "np.in1d(b,a) # 判断b的元素是否出现在a中\n",
    "np.intersect1d(a,b) # 求交集\n",
    "\n",
    "# np.equal(a,b) # 比较是否相等\n",
    "np.greater([1,2,3],[0,1,4])\n",
    "np.greater([1,2,3],[0,1,4]).all()\n",
    "np.greater([1,2,3],[0,1,4]).any()\n",
    "np.isnan(a) # 判断是否是nan值, 也可结合any() 与 all()\n"
   ]
  },
  {
   "source": [
    "### 搜索与排序"
   ],
   "cell_type": "markdown",
   "metadata": {}
  },
  {
   "cell_type": "code",
   "execution_count": 312,
   "metadata": {
    "tags": []
   },
   "outputs": [
    {
     "output_type": "execute_result",
     "data": {
      "text/plain": "array([18, 19, 20, 21, 22, 23])"
     },
     "metadata": {},
     "execution_count": 312
    }
   ],
   "source": [
    "# sort进行排序, argsort返回从小到大的索引\n",
    "# agrmax与agrmin\n",
    "# np.where 自定义返回满足条件的值, np.extract 返回满足条件的元素值\n",
    "\n",
    "a=np.array([2,3,1,3,4,54,3,2])\n",
    "np.sort(a)\n",
    "sorted(a)\n",
    "sorted(a, reverse= True)\n",
    "np.argsort(a)\n",
    "np.argmin(a)\n",
    "np.argmax(a) # 可对矩阵操作, 指定行或列\n",
    "b=np.array([[1,2,1],[2,3,4],[4,3,2]])\n",
    "np.argmax(b, axis=0) # 0为行, 横向对比, 即比较每列的最大值\n",
    "np.max(b, axis=1) # 1为列, 纵向对比,比较每行的最大值\n",
    "\n",
    "a=np.arange(12).reshape((4,3))\n",
    "np.where(a>5,1,0) # 符合a>5条件则返回1, 不符合则返回0\n",
    "\n",
    "b=np.arange(12,24).reshape((4,3))\n",
    "np.extract(a>5, b) # 对于a满足条件的位置,输出b同位置的元素"
   ]
  },
  {
   "source": [
    "## numpy文件读写"
   ],
   "cell_type": "markdown",
   "metadata": {}
  },
  {
   "cell_type": "code",
   "execution_count": null,
   "metadata": {},
   "outputs": [],
   "source": [
    "# 读取\n",
    "# np.genfromtxt() delimiter=\",\", skip_header=1\n",
    "# np.loadtxt()\n",
    "# 保存\n",
    "# savetxt(), filename 文件名, data 数据, delimiter 分隔符, fmt数据格式 %.3f\n"
   ]
  },
  {
   "source": [
    "## numpy字符串操作"
   ],
   "cell_type": "markdown",
   "metadata": {}
  },
  {
   "cell_type": "code",
   "execution_count": 349,
   "metadata": {},
   "outputs": [
    {
     "output_type": "execute_result",
     "data": {
      "text/plain": "array(True)"
     },
     "metadata": {},
     "execution_count": 349
    }
   ],
   "source": [
    "# char模块, 提供连接, 切片, 删除, 替换, 支持向量化操作\n",
    "\n",
    "b=[\"hello\", \"world\"]\n",
    "[str.upper() for str in b] # 列表推导式的形式\n",
    "np.char.upper(b)\n",
    "np.char.title(b)\n",
    "# 拼接\n",
    "np.char.add([\"中国\", \"国庆\"], [\"海军\", \"大阅兵\"]) # 两个字符列表, 对应位置连接\n",
    "np.char.multiply([\"hello\", \"world\"], 3) # 重复3次\n",
    "np.char.join([\":\", \"-\"], [\"hello\", \"world\"]) # 以前一列表的分隔符连接后列表对应位置的元素\n",
    "np.char.replace([\"hello\"], \"hello\", \"world\") # 第一个为对象, 把其中的hello替换为world\n",
    "np.char.strip(\"----h-e-l-l-o---\", \"-\") # 去除对象首尾指定的字符\n",
    "np.char.find(\"hello\", \"o\")\n",
    "np.char.islower(\"Hello\")\n",
    "np.char.isdigit(\"123e\")\n",
    "np.char.isalpha(\"aswe\")\n",
    "np.char.count(\"hello\", \"l\")\n",
    "np.char.startswith(\"hello\", \"he\")\n",
    "np.char.endswith(\"hello\", \"lo\")\n",
    "# np.char.decode(\"97\", encoding=utf8)"
   ]
  },
  {
   "source": [
    "## numpy统计计算  \n",
    "随机数生成  \n",
    "统计函数  \n",
    "线性代数"
   ],
   "cell_type": "markdown",
   "metadata": {}
  },
  {
   "cell_type": "code",
   "execution_count": 471,
   "metadata": {
    "tags": []
   },
   "outputs": [
    {
     "output_type": "stream",
     "name": "stdout",
     "text": "[7 4 2 8 3 5 1 9 6]\n"
    },
    {
     "output_type": "execute_result",
     "data": {
      "text/plain": "array([8, 6, 2, 3, 5, 7, 9, 1, 4])"
     },
     "metadata": {},
     "execution_count": 471
    }
   ],
   "source": [
    "# 随机数\n",
    "# np.random.***函数\n",
    "'''\n",
    "np.random.seed() 随机种子\n",
    "np.random.permutation() 对序列随机排序, 但不改变原值\n",
    "np.random.shuffle() 对序列随机排序, 直接在原值操作\n",
    "np.random.random() 生成0-1的随机数\n",
    "np.random.rand() 服从均匀分布的随机数\n",
    "np.random.randint() 指定范围的随机整数\n",
    "np.random.randn() 标准正态分的随机数\n",
    "np.random.normal() 指定条件的正态分布随机数\n",
    "np.random.uniform() 指定条件的均匀分布随机数\n",
    "'''\n",
    "\n",
    "np.set_printoptions(precision=2) # 设置精确度\n",
    "# np.set_printoptions?\n",
    "np.random.random((2,3))\n",
    "np.random.randint(2,10, size=[3,3]) # size可指定个数\n",
    "np.random.uniform(low=0, high=10, size=(3,3))\n",
    "np.random.randn(10,5) # 10行5列\n",
    "a=np.random.normal(1,10,size=100) # 均值为1, 标准差为10, 3*3个数\n",
    "np.mean(a) # 均值\n",
    "np.var(a) # 方差\n",
    "np.std(a) # 标准差\n",
    "b=np.array([1,2,3,4,5,6,7,8,9])\n",
    "np.random.shuffle(b) #直接在对数组作用, 无返回\n",
    "print(b)\n",
    "np.random.permutation(b) # 不改变原值"
   ]
  },
  {
   "cell_type": "code",
   "execution_count": 477,
   "metadata": {},
   "outputs": [
    {
     "output_type": "execute_result",
     "data": {
      "text/plain": "array([20., 30., 50., 80., 99.])"
     },
     "metadata": {},
     "execution_count": 477
    }
   ],
   "source": [
    "# 统计函数\n",
    "\n",
    "np.percentile(np.arange(0,101), [20,30,50,80,99]) # 分位数, 0-100进行分位"
   ]
  },
  {
   "cell_type": "code",
   "execution_count": 521,
   "metadata": {
    "tags": []
   },
   "outputs": [
    {
     "output_type": "stream",
     "name": "stdout",
     "text": "[[-1.79 -0.66  0.6  -0.18  1.4 ]\n [-0.38  1.56  0.53 -1.23 -0.57]\n [ 1.17 -0.17  0.6   1.73  0.2 ]\n [ 2.71  0.85  0.52  2.44  0.27]\n [-0.38  0.21 -0.13  0.21 -1.13]\n [-0.85  1.75  1.58  0.48 -1.99]\n [-0.75  0.66 -1.85 -0.28 -0.12]\n [ 1.67 -0.04  0.34  0.22 -0.18]\n [ 2.31 -0.2   1.01 -0.81 -0.02]\n [-2.12 -0.02 -0.06 -0.4   0.14]]\n[ 1.59  3.94  3.14  2.18 -2.  ]\n[-0.63 -0.09  3.53  6.79 -1.22  0.97 -2.34  2.01  2.29 -2.46]\n[-1.79 -2.45 -1.85 -2.03 -0.63 -1.01  0.55  1.08 -0.15 -0.72  0.45  0.28\n  0.88  2.61  2.81  5.52  6.37  6.89  9.33  9.6   9.22  9.43  9.3   9.51\n  8.38  7.53  9.28 10.86 11.34  9.35  8.6   9.26  7.41  7.13  7.01  8.68\n  8.64  8.98  9.2   9.02 11.33 11.13 12.14 11.33 11.31  9.19  9.17  9.11\n  8.71  8.85]\n[-1.79e+00  1.18e+00  7.09e-01 -1.28e-01 -1.79e-01  6.79e-02  1.06e-01\n  5.61e-02 -6.90e-02  3.93e-02  4.60e-02 -7.83e-03 -4.70e-03 -8.12e-03\n -1.62e-03 -4.40e-03 -3.74e-03 -1.95e-03 -4.75e-03 -1.28e-03  4.87e-04\n  1.02e-04 -1.33e-05 -2.79e-06  3.16e-06 -2.68e-06 -4.69e-06 -7.42e-06\n -3.56e-06  7.09e-06 -5.31e-06 -3.51e-06  6.49e-06 -1.82e-06  2.18e-07\n  3.64e-07 -1.46e-08 -4.95e-09 -1.09e-09  1.96e-10  4.53e-10 -9.06e-11\n -9.15e-11  7.41e-11 -1.48e-12  3.14e-12 -6.28e-14  3.77e-15 -1.51e-15\n -2.11e-16]\n[[-0.89 -0.7   0.13  0.47 -0.53 -1.08 -0.97 -0.07 -0.32 -0.74]\n [-0.56 -0.53  0.28  0.59 -0.33 -0.58 -0.66  0.01 -0.16 -0.33]\n [-0.18 -0.38  0.6   0.85 -0.13  0.48 -0.28  0.22 -0.02 -0.06]]\n0.060000000000000005\n4.83\n"
    },
    {
     "output_type": "execute_result",
     "data": {
      "text/plain": "25"
     },
     "metadata": {},
     "execution_count": 521
    }
   ],
   "source": [
    "data=np.random.normal(0,1,size=(10,5))\n",
    "np.savetxt(r\"./data.txt\", data, delimiter=\",\", fmt='%.2f')\n",
    "\n",
    "a=np.genfromtxt(r\"./data.txt\", delimiter=\",\")\n",
    "print(a)\n",
    "print(a.sum(axis=0)) # 沿着行的方向求均值, 即每列的均值, 5个值\n",
    "print(a.sum(axis=1)) # 沿着列的方向求均值, 即每行的均值, 10个值\n",
    "print(a.cumsum()) # 连加\n",
    "print(a.cumprod()) # 连乘\n",
    "print(np.percentile(a, [20,30,50], axis=1))\n",
    "print(np.median(a))\n",
    "print(np.ptp(a)) # 极差\n",
    "# np.max(a)-np.min(a)\n",
    "np.sum(a>0) # 统计大于0的元素的个数"
   ]
  },
  {
   "source": [
    "## 线性代数"
   ],
   "cell_type": "markdown",
   "metadata": {}
  },
  {
   "cell_type": "code",
   "execution_count": 538,
   "metadata": {
    "tags": []
   },
   "outputs": [
    {
     "output_type": "stream",
     "name": "stdout",
     "text": "[[ 42  48  54]\n [114 136 158]\n [186 224 262]]\n[[ 0  1  2  3]\n [ 4  5  6  7]\n [ 8  9 10 11]]\n[[ 0  4  8]\n [ 1  5  9]\n [ 2  6 10]\n [ 3  7 11]]\n[[ 0.72 -0.29 -0.71  0.32]\n [-1.41  0.48  2.19 -1.34]\n [ 0.23  0.39 -0.79  0.23]\n [ 0.52 -0.63 -0.69  0.84]]\nThe anwser is\n [[ 1.81]\n [ 0.37]\n [-1.19]]\n"
    }
   ],
   "source": [
    "# 矩阵乘法np.dot()\n",
    "a=np.array(np.arange(12)).reshape(3,4)\n",
    "b=np.array(np.arange(12)).reshape(4,3)\n",
    "c=np.dot(a,b)\n",
    "print(c)\n",
    "print(a)\n",
    "print(np.transpose(a)) # 转置\n",
    "d=np.array(np.random.normal(16, size=(4,4)))\n",
    "e=np.linalg.inv(d) # 逆矩阵\n",
    "print(e)\n",
    "np.dot(e,d) # 单位矩阵\n",
    "np.diag(a) # 取对角线上的元素\n",
    "'''\n",
    "求解方程组\n",
    "3X+4Y+5Z=1\n",
    "4X+5Y+6Z=2\n",
    "5X+6Y+7Z=3\n",
    "'''\n",
    "a=np.array([[3,4,5],[4,5,6],[5,6,7]])\n",
    "b=np.array([1,2,3]).reshape(3,1)\n",
    "c=np.linalg.solve(a,b)\n",
    "print(\"The anwser is\\n\",c)"
   ]
  }
 ]
}